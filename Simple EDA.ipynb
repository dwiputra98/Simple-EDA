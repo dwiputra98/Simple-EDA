{
 "cells": [
  {
   "cell_type": "markdown",
   "id": "f6271353",
   "metadata": {},
   "source": [
    "# Import Data & Python Packages"
   ]
  },
  {
   "cell_type": "code",
   "execution_count": 77,
   "id": "a0f9f05f",
   "metadata": {},
   "outputs": [],
   "source": [
    "import numpy as np\n",
    "import pandas as pd\n",
    "import matplotlib.pyplot as plt\n",
    "import seaborn as sns"
   ]
  },
  {
   "cell_type": "markdown",
   "id": "6499a5ce",
   "metadata": {},
   "source": [
    "Import Data yang akan di analisis"
   ]
  },
  {
   "cell_type": "code",
   "execution_count": 78,
   "id": "0c4337d6",
   "metadata": {},
   "outputs": [
    {
     "data": {
      "text/html": [
       "<div>\n",
       "<style scoped>\n",
       "    .dataframe tbody tr th:only-of-type {\n",
       "        vertical-align: middle;\n",
       "    }\n",
       "\n",
       "    .dataframe tbody tr th {\n",
       "        vertical-align: top;\n",
       "    }\n",
       "\n",
       "    .dataframe thead th {\n",
       "        text-align: right;\n",
       "    }\n",
       "</style>\n",
       "<table border=\"1\" class=\"dataframe\">\n",
       "  <thead>\n",
       "    <tr style=\"text-align: right;\">\n",
       "      <th></th>\n",
       "      <th>Unnamed: 0</th>\n",
       "      <th>LN_ID</th>\n",
       "      <th>TARGET</th>\n",
       "      <th>CONTRACT_TYPE</th>\n",
       "      <th>GENDER</th>\n",
       "      <th>NUM_CHILDREN</th>\n",
       "      <th>INCOME</th>\n",
       "      <th>APPROVED_CREDIT</th>\n",
       "      <th>ANNUITY</th>\n",
       "      <th>PRICE</th>\n",
       "      <th>...</th>\n",
       "      <th>DAYS_AGE</th>\n",
       "      <th>DAYS_WORK</th>\n",
       "      <th>DAYS_REGISTRATION</th>\n",
       "      <th>DAYS_ID_CHANGE</th>\n",
       "      <th>WEEKDAYS_APPLY</th>\n",
       "      <th>HOUR_APPLY</th>\n",
       "      <th>ORGANIZATION_TYPE</th>\n",
       "      <th>EXT_SCORE_1</th>\n",
       "      <th>EXT_SCORE_2</th>\n",
       "      <th>EXT_SCORE_3</th>\n",
       "    </tr>\n",
       "  </thead>\n",
       "  <tbody>\n",
       "    <tr>\n",
       "      <th>0</th>\n",
       "      <td>201468</td>\n",
       "      <td>333538</td>\n",
       "      <td>0</td>\n",
       "      <td>Revolving loans</td>\n",
       "      <td>F</td>\n",
       "      <td>1</td>\n",
       "      <td>67500.0</td>\n",
       "      <td>202500.0</td>\n",
       "      <td>10125.0</td>\n",
       "      <td>202500.0</td>\n",
       "      <td>...</td>\n",
       "      <td>-11539</td>\n",
       "      <td>-921</td>\n",
       "      <td>-119.0</td>\n",
       "      <td>-2757</td>\n",
       "      <td>TUESDAY</td>\n",
       "      <td>18</td>\n",
       "      <td>Business Entity Type 3</td>\n",
       "      <td>0.572805</td>\n",
       "      <td>0.608276</td>\n",
       "      <td>NaN</td>\n",
       "    </tr>\n",
       "    <tr>\n",
       "      <th>1</th>\n",
       "      <td>264803</td>\n",
       "      <td>406644</td>\n",
       "      <td>0</td>\n",
       "      <td>Cash loans</td>\n",
       "      <td>F</td>\n",
       "      <td>1</td>\n",
       "      <td>202500.0</td>\n",
       "      <td>976711.5</td>\n",
       "      <td>49869.0</td>\n",
       "      <td>873000.0</td>\n",
       "      <td>...</td>\n",
       "      <td>-15743</td>\n",
       "      <td>-4482</td>\n",
       "      <td>-1797.0</td>\n",
       "      <td>-2455</td>\n",
       "      <td>TUESDAY</td>\n",
       "      <td>14</td>\n",
       "      <td>Other</td>\n",
       "      <td>0.655600</td>\n",
       "      <td>0.684298</td>\n",
       "      <td>NaN</td>\n",
       "    </tr>\n",
       "    <tr>\n",
       "      <th>2</th>\n",
       "      <td>137208</td>\n",
       "      <td>259130</td>\n",
       "      <td>0</td>\n",
       "      <td>Cash loans</td>\n",
       "      <td>F</td>\n",
       "      <td>0</td>\n",
       "      <td>180000.0</td>\n",
       "      <td>407520.0</td>\n",
       "      <td>25060.5</td>\n",
       "      <td>360000.0</td>\n",
       "      <td>...</td>\n",
       "      <td>-20775</td>\n",
       "      <td>365243</td>\n",
       "      <td>-8737.0</td>\n",
       "      <td>-4312</td>\n",
       "      <td>THURSDAY</td>\n",
       "      <td>14</td>\n",
       "      <td>NA1</td>\n",
       "      <td>NaN</td>\n",
       "      <td>0.580687</td>\n",
       "      <td>0.749022</td>\n",
       "    </tr>\n",
       "    <tr>\n",
       "      <th>3</th>\n",
       "      <td>269220</td>\n",
       "      <td>411997</td>\n",
       "      <td>0</td>\n",
       "      <td>Cash loans</td>\n",
       "      <td>M</td>\n",
       "      <td>0</td>\n",
       "      <td>225000.0</td>\n",
       "      <td>808650.0</td>\n",
       "      <td>26086.5</td>\n",
       "      <td>675000.0</td>\n",
       "      <td>...</td>\n",
       "      <td>-20659</td>\n",
       "      <td>-10455</td>\n",
       "      <td>-4998.0</td>\n",
       "      <td>-4010</td>\n",
       "      <td>WEDNESDAY</td>\n",
       "      <td>10</td>\n",
       "      <td>Culture</td>\n",
       "      <td>NaN</td>\n",
       "      <td>0.623740</td>\n",
       "      <td>0.710674</td>\n",
       "    </tr>\n",
       "    <tr>\n",
       "      <th>4</th>\n",
       "      <td>122096</td>\n",
       "      <td>241559</td>\n",
       "      <td>0</td>\n",
       "      <td>Revolving loans</td>\n",
       "      <td>M</td>\n",
       "      <td>0</td>\n",
       "      <td>135000.0</td>\n",
       "      <td>180000.0</td>\n",
       "      <td>9000.0</td>\n",
       "      <td>180000.0</td>\n",
       "      <td>...</td>\n",
       "      <td>-9013</td>\n",
       "      <td>-1190</td>\n",
       "      <td>-3524.0</td>\n",
       "      <td>-1644</td>\n",
       "      <td>SUNDAY</td>\n",
       "      <td>11</td>\n",
       "      <td>Construction</td>\n",
       "      <td>0.175511</td>\n",
       "      <td>0.492994</td>\n",
       "      <td>0.085595</td>\n",
       "    </tr>\n",
       "  </tbody>\n",
       "</table>\n",
       "<p>5 rows × 24 columns</p>\n",
       "</div>"
      ],
      "text/plain": [
       "   Unnamed: 0   LN_ID  TARGET    CONTRACT_TYPE GENDER  NUM_CHILDREN    INCOME  \\\n",
       "0      201468  333538       0  Revolving loans      F             1   67500.0   \n",
       "1      264803  406644       0       Cash loans      F             1  202500.0   \n",
       "2      137208  259130       0       Cash loans      F             0  180000.0   \n",
       "3      269220  411997       0       Cash loans      M             0  225000.0   \n",
       "4      122096  241559       0  Revolving loans      M             0  135000.0   \n",
       "\n",
       "   APPROVED_CREDIT  ANNUITY     PRICE  ... DAYS_AGE DAYS_WORK  \\\n",
       "0         202500.0  10125.0  202500.0  ...   -11539      -921   \n",
       "1         976711.5  49869.0  873000.0  ...   -15743     -4482   \n",
       "2         407520.0  25060.5  360000.0  ...   -20775    365243   \n",
       "3         808650.0  26086.5  675000.0  ...   -20659    -10455   \n",
       "4         180000.0   9000.0  180000.0  ...    -9013     -1190   \n",
       "\n",
       "  DAYS_REGISTRATION DAYS_ID_CHANGE  WEEKDAYS_APPLY  HOUR_APPLY  \\\n",
       "0            -119.0          -2757         TUESDAY          18   \n",
       "1           -1797.0          -2455         TUESDAY          14   \n",
       "2           -8737.0          -4312        THURSDAY          14   \n",
       "3           -4998.0          -4010       WEDNESDAY          10   \n",
       "4           -3524.0          -1644          SUNDAY          11   \n",
       "\n",
       "        ORGANIZATION_TYPE  EXT_SCORE_1 EXT_SCORE_2  EXT_SCORE_3  \n",
       "0  Business Entity Type 3     0.572805    0.608276          NaN  \n",
       "1                   Other     0.655600    0.684298          NaN  \n",
       "2                     NA1          NaN    0.580687     0.749022  \n",
       "3                 Culture          NaN    0.623740     0.710674  \n",
       "4            Construction     0.175511    0.492994     0.085595  \n",
       "\n",
       "[5 rows x 24 columns]"
      ]
     },
     "execution_count": 78,
     "metadata": {},
     "output_type": "execute_result"
    }
   ],
   "source": [
    "app_train = pd.read_csv('app_train.csv',sep = ',')\n",
    "app_train.head()"
   ]
  },
  {
   "cell_type": "code",
   "execution_count": 79,
   "id": "cf37aae5",
   "metadata": {},
   "outputs": [
    {
     "name": "stdout",
     "output_type": "stream",
     "text": [
      "Jumlah Data Train Ada Sebanyak 61503.\n"
     ]
    }
   ],
   "source": [
    "print('Jumlah Data Train Ada Sebanyak {}.'.format(app_train.shape[0]))"
   ]
  },
  {
   "cell_type": "markdown",
   "id": "5a3109d4",
   "metadata": {},
   "source": [
    "# Data Cleaning"
   ]
  },
  {
   "cell_type": "markdown",
   "id": "750d6849",
   "metadata": {},
   "source": [
    "Setelah melihat datanya Saya memutuskan akan menghapus kolom yang menurut saya tidak terlalu berpengaruh"
   ]
  },
  {
   "cell_type": "code",
   "execution_count": 80,
   "id": "291ebb65",
   "metadata": {},
   "outputs": [
    {
     "data": {
      "text/plain": [
       "Index(['Unnamed: 0', 'LN_ID', 'TARGET', 'CONTRACT_TYPE', 'GENDER',\n",
       "       'NUM_CHILDREN', 'INCOME', 'APPROVED_CREDIT', 'ANNUITY', 'PRICE',\n",
       "       'INCOME_TYPE', 'EDUCATION', 'FAMILY_STATUS', 'HOUSING_TYPE', 'DAYS_AGE',\n",
       "       'DAYS_WORK', 'DAYS_REGISTRATION', 'DAYS_ID_CHANGE', 'WEEKDAYS_APPLY',\n",
       "       'HOUR_APPLY', 'ORGANIZATION_TYPE', 'EXT_SCORE_1', 'EXT_SCORE_2',\n",
       "       'EXT_SCORE_3'],\n",
       "      dtype='object')"
      ]
     },
     "execution_count": 80,
     "metadata": {},
     "output_type": "execute_result"
    }
   ],
   "source": [
    "app_train.columns"
   ]
  },
  {
   "cell_type": "code",
   "execution_count": 81,
   "id": "5b90c631",
   "metadata": {},
   "outputs": [],
   "source": [
    "column1_drop = ['Unnamed: 0','LN_ID','ANNUITY', 'PRICE','DAYS_REGISTRATION', 'DAYS_ID_CHANGE','WEEKDAYS_APPLY', 'HOUR_APPLY','ORGANIZATION_TYPE','EXT_SCORE_1','EXT_SCORE_2','EXT_SCORE_3']\n",
    "dataku = app_train.drop(column1_drop, axis = 1)"
   ]
  },
  {
   "cell_type": "code",
   "execution_count": 82,
   "id": "81eaa476",
   "metadata": {},
   "outputs": [
    {
     "data": {
      "text/html": [
       "<div>\n",
       "<style scoped>\n",
       "    .dataframe tbody tr th:only-of-type {\n",
       "        vertical-align: middle;\n",
       "    }\n",
       "\n",
       "    .dataframe tbody tr th {\n",
       "        vertical-align: top;\n",
       "    }\n",
       "\n",
       "    .dataframe thead th {\n",
       "        text-align: right;\n",
       "    }\n",
       "</style>\n",
       "<table border=\"1\" class=\"dataframe\">\n",
       "  <thead>\n",
       "    <tr style=\"text-align: right;\">\n",
       "      <th></th>\n",
       "      <th>TARGET</th>\n",
       "      <th>CONTRACT_TYPE</th>\n",
       "      <th>GENDER</th>\n",
       "      <th>NUM_CHILDREN</th>\n",
       "      <th>INCOME</th>\n",
       "      <th>APPROVED_CREDIT</th>\n",
       "      <th>INCOME_TYPE</th>\n",
       "      <th>EDUCATION</th>\n",
       "      <th>FAMILY_STATUS</th>\n",
       "      <th>HOUSING_TYPE</th>\n",
       "      <th>DAYS_AGE</th>\n",
       "      <th>DAYS_WORK</th>\n",
       "    </tr>\n",
       "  </thead>\n",
       "  <tbody>\n",
       "    <tr>\n",
       "      <th>0</th>\n",
       "      <td>0</td>\n",
       "      <td>Revolving loans</td>\n",
       "      <td>F</td>\n",
       "      <td>1</td>\n",
       "      <td>67500.0</td>\n",
       "      <td>202500.0</td>\n",
       "      <td>Working</td>\n",
       "      <td>Secondary / secondary special</td>\n",
       "      <td>Married</td>\n",
       "      <td>With parents</td>\n",
       "      <td>-11539</td>\n",
       "      <td>-921</td>\n",
       "    </tr>\n",
       "    <tr>\n",
       "      <th>1</th>\n",
       "      <td>0</td>\n",
       "      <td>Cash loans</td>\n",
       "      <td>F</td>\n",
       "      <td>1</td>\n",
       "      <td>202500.0</td>\n",
       "      <td>976711.5</td>\n",
       "      <td>Commercial associate</td>\n",
       "      <td>Secondary / secondary special</td>\n",
       "      <td>Married</td>\n",
       "      <td>House / apartment</td>\n",
       "      <td>-15743</td>\n",
       "      <td>-4482</td>\n",
       "    </tr>\n",
       "    <tr>\n",
       "      <th>2</th>\n",
       "      <td>0</td>\n",
       "      <td>Cash loans</td>\n",
       "      <td>F</td>\n",
       "      <td>0</td>\n",
       "      <td>180000.0</td>\n",
       "      <td>407520.0</td>\n",
       "      <td>Pensioner</td>\n",
       "      <td>Secondary / secondary special</td>\n",
       "      <td>Married</td>\n",
       "      <td>House / apartment</td>\n",
       "      <td>-20775</td>\n",
       "      <td>365243</td>\n",
       "    </tr>\n",
       "    <tr>\n",
       "      <th>3</th>\n",
       "      <td>0</td>\n",
       "      <td>Cash loans</td>\n",
       "      <td>M</td>\n",
       "      <td>0</td>\n",
       "      <td>225000.0</td>\n",
       "      <td>808650.0</td>\n",
       "      <td>State servant</td>\n",
       "      <td>Higher education</td>\n",
       "      <td>Married</td>\n",
       "      <td>House / apartment</td>\n",
       "      <td>-20659</td>\n",
       "      <td>-10455</td>\n",
       "    </tr>\n",
       "    <tr>\n",
       "      <th>4</th>\n",
       "      <td>0</td>\n",
       "      <td>Revolving loans</td>\n",
       "      <td>M</td>\n",
       "      <td>0</td>\n",
       "      <td>135000.0</td>\n",
       "      <td>180000.0</td>\n",
       "      <td>Commercial associate</td>\n",
       "      <td>Secondary / secondary special</td>\n",
       "      <td>Single / not married</td>\n",
       "      <td>House / apartment</td>\n",
       "      <td>-9013</td>\n",
       "      <td>-1190</td>\n",
       "    </tr>\n",
       "  </tbody>\n",
       "</table>\n",
       "</div>"
      ],
      "text/plain": [
       "   TARGET    CONTRACT_TYPE GENDER  NUM_CHILDREN    INCOME  APPROVED_CREDIT  \\\n",
       "0       0  Revolving loans      F             1   67500.0         202500.0   \n",
       "1       0       Cash loans      F             1  202500.0         976711.5   \n",
       "2       0       Cash loans      F             0  180000.0         407520.0   \n",
       "3       0       Cash loans      M             0  225000.0         808650.0   \n",
       "4       0  Revolving loans      M             0  135000.0         180000.0   \n",
       "\n",
       "            INCOME_TYPE                      EDUCATION         FAMILY_STATUS  \\\n",
       "0               Working  Secondary / secondary special               Married   \n",
       "1  Commercial associate  Secondary / secondary special               Married   \n",
       "2             Pensioner  Secondary / secondary special               Married   \n",
       "3         State servant               Higher education               Married   \n",
       "4  Commercial associate  Secondary / secondary special  Single / not married   \n",
       "\n",
       "        HOUSING_TYPE  DAYS_AGE  DAYS_WORK  \n",
       "0       With parents    -11539       -921  \n",
       "1  House / apartment    -15743      -4482  \n",
       "2  House / apartment    -20775     365243  \n",
       "3  House / apartment    -20659     -10455  \n",
       "4  House / apartment     -9013      -1190  "
      ]
     },
     "execution_count": 82,
     "metadata": {},
     "output_type": "execute_result"
    }
   ],
   "source": [
    "dataku.head()"
   ]
  },
  {
   "cell_type": "code",
   "execution_count": 83,
   "id": "d7508dc5",
   "metadata": {},
   "outputs": [
    {
     "name": "stdout",
     "output_type": "stream",
     "text": [
      "<class 'pandas.core.frame.DataFrame'>\n",
      "RangeIndex: 61503 entries, 0 to 61502\n",
      "Data columns (total 12 columns):\n",
      " #   Column           Non-Null Count  Dtype  \n",
      "---  ------           --------------  -----  \n",
      " 0   TARGET           61503 non-null  int64  \n",
      " 1   CONTRACT_TYPE    61503 non-null  object \n",
      " 2   GENDER           61503 non-null  object \n",
      " 3   NUM_CHILDREN     61503 non-null  int64  \n",
      " 4   INCOME           61503 non-null  float64\n",
      " 5   APPROVED_CREDIT  61503 non-null  float64\n",
      " 6   INCOME_TYPE      61503 non-null  object \n",
      " 7   EDUCATION        61503 non-null  object \n",
      " 8   FAMILY_STATUS    61503 non-null  object \n",
      " 9   HOUSING_TYPE     61503 non-null  object \n",
      " 10  DAYS_AGE         61503 non-null  int64  \n",
      " 11  DAYS_WORK        61503 non-null  int64  \n",
      "dtypes: float64(2), int64(4), object(6)\n",
      "memory usage: 5.6+ MB\n"
     ]
    }
   ],
   "source": [
    "dataku.info()"
   ]
  },
  {
   "cell_type": "markdown",
   "id": "e88ea762",
   "metadata": {},
   "source": [
    "Setelah di Lihat Tidak Ada Data Yang Missing"
   ]
  },
  {
   "cell_type": "code",
   "execution_count": 84,
   "id": "7917e89b",
   "metadata": {},
   "outputs": [
    {
     "data": {
      "text/html": [
       "<div>\n",
       "<style scoped>\n",
       "    .dataframe tbody tr th:only-of-type {\n",
       "        vertical-align: middle;\n",
       "    }\n",
       "\n",
       "    .dataframe tbody tr th {\n",
       "        vertical-align: top;\n",
       "    }\n",
       "\n",
       "    .dataframe thead th {\n",
       "        text-align: right;\n",
       "    }\n",
       "</style>\n",
       "<table border=\"1\" class=\"dataframe\">\n",
       "  <thead>\n",
       "    <tr style=\"text-align: right;\">\n",
       "      <th></th>\n",
       "      <th>TARGET</th>\n",
       "      <th>NUM_CHILDREN</th>\n",
       "      <th>INCOME</th>\n",
       "      <th>APPROVED_CREDIT</th>\n",
       "      <th>DAYS_AGE</th>\n",
       "      <th>DAYS_WORK</th>\n",
       "    </tr>\n",
       "  </thead>\n",
       "  <tbody>\n",
       "    <tr>\n",
       "      <th>count</th>\n",
       "      <td>61503.000000</td>\n",
       "      <td>61503.000000</td>\n",
       "      <td>6.150300e+04</td>\n",
       "      <td>6.150300e+04</td>\n",
       "      <td>61503.000000</td>\n",
       "      <td>61503.000000</td>\n",
       "    </tr>\n",
       "    <tr>\n",
       "      <th>mean</th>\n",
       "      <td>0.080793</td>\n",
       "      <td>0.411850</td>\n",
       "      <td>1.690789e+05</td>\n",
       "      <td>5.976899e+05</td>\n",
       "      <td>-16057.481033</td>\n",
       "      <td>64882.262768</td>\n",
       "    </tr>\n",
       "    <tr>\n",
       "      <th>std</th>\n",
       "      <td>0.272519</td>\n",
       "      <td>0.716686</td>\n",
       "      <td>1.339697e+05</td>\n",
       "      <td>4.016493e+05</td>\n",
       "      <td>4363.536919</td>\n",
       "      <td>142154.440320</td>\n",
       "    </tr>\n",
       "    <tr>\n",
       "      <th>min</th>\n",
       "      <td>0.000000</td>\n",
       "      <td>0.000000</td>\n",
       "      <td>2.610000e+04</td>\n",
       "      <td>4.500000e+04</td>\n",
       "      <td>-25229.000000</td>\n",
       "      <td>-17912.000000</td>\n",
       "    </tr>\n",
       "    <tr>\n",
       "      <th>25%</th>\n",
       "      <td>0.000000</td>\n",
       "      <td>0.000000</td>\n",
       "      <td>1.125000e+05</td>\n",
       "      <td>2.700000e+05</td>\n",
       "      <td>-19716.500000</td>\n",
       "      <td>-2761.000000</td>\n",
       "    </tr>\n",
       "    <tr>\n",
       "      <th>50%</th>\n",
       "      <td>0.000000</td>\n",
       "      <td>0.000000</td>\n",
       "      <td>1.485000e+05</td>\n",
       "      <td>5.124465e+05</td>\n",
       "      <td>-15753.000000</td>\n",
       "      <td>-1208.000000</td>\n",
       "    </tr>\n",
       "    <tr>\n",
       "      <th>75%</th>\n",
       "      <td>0.000000</td>\n",
       "      <td>1.000000</td>\n",
       "      <td>2.025000e+05</td>\n",
       "      <td>8.086500e+05</td>\n",
       "      <td>-12450.000000</td>\n",
       "      <td>-276.000000</td>\n",
       "    </tr>\n",
       "    <tr>\n",
       "      <th>max</th>\n",
       "      <td>1.000000</td>\n",
       "      <td>9.000000</td>\n",
       "      <td>1.800009e+07</td>\n",
       "      <td>4.050000e+06</td>\n",
       "      <td>-7673.000000</td>\n",
       "      <td>365243.000000</td>\n",
       "    </tr>\n",
       "  </tbody>\n",
       "</table>\n",
       "</div>"
      ],
      "text/plain": [
       "             TARGET  NUM_CHILDREN        INCOME  APPROVED_CREDIT  \\\n",
       "count  61503.000000  61503.000000  6.150300e+04     6.150300e+04   \n",
       "mean       0.080793      0.411850  1.690789e+05     5.976899e+05   \n",
       "std        0.272519      0.716686  1.339697e+05     4.016493e+05   \n",
       "min        0.000000      0.000000  2.610000e+04     4.500000e+04   \n",
       "25%        0.000000      0.000000  1.125000e+05     2.700000e+05   \n",
       "50%        0.000000      0.000000  1.485000e+05     5.124465e+05   \n",
       "75%        0.000000      1.000000  2.025000e+05     8.086500e+05   \n",
       "max        1.000000      9.000000  1.800009e+07     4.050000e+06   \n",
       "\n",
       "           DAYS_AGE      DAYS_WORK  \n",
       "count  61503.000000   61503.000000  \n",
       "mean  -16057.481033   64882.262768  \n",
       "std     4363.536919  142154.440320  \n",
       "min   -25229.000000  -17912.000000  \n",
       "25%   -19716.500000   -2761.000000  \n",
       "50%   -15753.000000   -1208.000000  \n",
       "75%   -12450.000000    -276.000000  \n",
       "max    -7673.000000  365243.000000  "
      ]
     },
     "execution_count": 84,
     "metadata": {},
     "output_type": "execute_result"
    }
   ],
   "source": [
    "dataku.describe()"
   ]
  },
  {
   "cell_type": "markdown",
   "id": "2dd4064d",
   "metadata": {},
   "source": [
    "Setelah di lihat pada kolom DAYS_WORK terdapat angka yang cukup aneh"
   ]
  },
  {
   "cell_type": "code",
   "execution_count": 85,
   "id": "c6e5c5b0",
   "metadata": {},
   "outputs": [
    {
     "data": {
      "text/plain": [
       "False    50250\n",
       "True     11253\n",
       "Name: DAYS_WORK, dtype: int64"
      ]
     },
     "execution_count": 85,
     "metadata": {},
     "output_type": "execute_result"
    }
   ],
   "source": [
    "(dataku['DAYS_WORK'] == 365243).value_counts()"
   ]
  },
  {
   "cell_type": "markdown",
   "id": "c95d156e",
   "metadata": {},
   "source": [
    "setelah ditelusuri ternyata ada cukup banyak yang memiliki angka yang serupa. Jika data tersebut di hapus saya takut akan sangat mempengaruhi pengujian nantinya maka saya memilih untuk mengganti nilai tersebut "
   ]
  },
  {
   "cell_type": "code",
   "execution_count": 86,
   "id": "d5b78177",
   "metadata": {},
   "outputs": [],
   "source": [
    "datafill = dataku[dataku['DAYS_WORK']!=365243]"
   ]
  },
  {
   "cell_type": "code",
   "execution_count": 87,
   "id": "50a8ae0c",
   "metadata": {},
   "outputs": [
    {
     "data": {
      "image/png": "[encoded data removed]",
      "text/plain": [
       "<Figure size 432x288 with 1 Axes>"
      ]
     },
     "metadata": {
      "needs_background": "light"
     },
     "output_type": "display_data"
    }
   ],
   "source": [
    "ax = datafill[\"DAYS_WORK\"].hist(bins=15, density=True, stacked=True, color='teal', alpha=0.5)\n",
    "datafill[\"DAYS_WORK\"].plot(kind='density', color='teal')\n",
    "ax.set(xlabel='DAYS_WORK')\n",
    "plt.xlim(-18000,1000)\n",
    "plt.show()"
   ]
  },
  {
   "cell_type": "markdown",
   "id": "e0b08b9f",
   "metadata": {},
   "source": [
    "Setelah dilihat ternyata bentuk distribusinya miring ke kiri jadi saya memilih akan menggunakan median untuk mengisi nilai 365243"
   ]
  },
  {
   "cell_type": "code",
   "execution_count": 88,
   "id": "e01e9ffd",
   "metadata": {},
   "outputs": [
    {
     "data": {
      "text/plain": [
       "-2380.6103880597016"
      ]
     },
     "execution_count": 88,
     "metadata": {},
     "output_type": "execute_result"
    }
   ],
   "source": [
    "(datafill['DAYS_WORK']).mean()"
   ]
  },
  {
   "cell_type": "code",
   "execution_count": 89,
   "id": "d3591034",
   "metadata": {},
   "outputs": [
    {
     "data": {
      "text/plain": [
       "-1644.0"
      ]
     },
     "execution_count": 89,
     "metadata": {},
     "output_type": "execute_result"
    }
   ],
   "source": [
    "(datafill['DAYS_WORK']).median()"
   ]
  },
  {
   "cell_type": "code",
   "execution_count": 90,
   "id": "d5a6dc1c",
   "metadata": {},
   "outputs": [],
   "source": [
    "dataku['DAYS_WORK'] = dataku['DAYS_WORK'].replace([365243],-1644)"
   ]
  },
  {
   "cell_type": "code",
   "execution_count": 91,
   "id": "06de2299",
   "metadata": {},
   "outputs": [
    {
     "data": {
      "text/html": [
       "<div>\n",
       "<style scoped>\n",
       "    .dataframe tbody tr th:only-of-type {\n",
       "        vertical-align: middle;\n",
       "    }\n",
       "\n",
       "    .dataframe tbody tr th {\n",
       "        vertical-align: top;\n",
       "    }\n",
       "\n",
       "    .dataframe thead th {\n",
       "        text-align: right;\n",
       "    }\n",
       "</style>\n",
       "<table border=\"1\" class=\"dataframe\">\n",
       "  <thead>\n",
       "    <tr style=\"text-align: right;\">\n",
       "      <th></th>\n",
       "      <th>TARGET</th>\n",
       "      <th>NUM_CHILDREN</th>\n",
       "      <th>INCOME</th>\n",
       "      <th>APPROVED_CREDIT</th>\n",
       "      <th>DAYS_AGE</th>\n",
       "      <th>DAYS_WORK</th>\n",
       "    </tr>\n",
       "  </thead>\n",
       "  <tbody>\n",
       "    <tr>\n",
       "      <th>count</th>\n",
       "      <td>61503.000000</td>\n",
       "      <td>61503.000000</td>\n",
       "      <td>6.150300e+04</td>\n",
       "      <td>6.150300e+04</td>\n",
       "      <td>61503.000000</td>\n",
       "      <td>61503.000000</td>\n",
       "    </tr>\n",
       "    <tr>\n",
       "      <th>mean</th>\n",
       "      <td>0.080793</td>\n",
       "      <td>0.411850</td>\n",
       "      <td>1.690789e+05</td>\n",
       "      <td>5.976899e+05</td>\n",
       "      <td>-16057.481033</td>\n",
       "      <td>-2245.835228</td>\n",
       "    </tr>\n",
       "    <tr>\n",
       "      <th>std</th>\n",
       "      <td>0.272519</td>\n",
       "      <td>0.716686</td>\n",
       "      <td>1.339697e+05</td>\n",
       "      <td>4.016493e+05</td>\n",
       "      <td>4363.536919</td>\n",
       "      <td>2123.994254</td>\n",
       "    </tr>\n",
       "    <tr>\n",
       "      <th>min</th>\n",
       "      <td>0.000000</td>\n",
       "      <td>0.000000</td>\n",
       "      <td>2.610000e+04</td>\n",
       "      <td>4.500000e+04</td>\n",
       "      <td>-25229.000000</td>\n",
       "      <td>-17912.000000</td>\n",
       "    </tr>\n",
       "    <tr>\n",
       "      <th>25%</th>\n",
       "      <td>0.000000</td>\n",
       "      <td>0.000000</td>\n",
       "      <td>1.125000e+05</td>\n",
       "      <td>2.700000e+05</td>\n",
       "      <td>-19716.500000</td>\n",
       "      <td>-2761.000000</td>\n",
       "    </tr>\n",
       "    <tr>\n",
       "      <th>50%</th>\n",
       "      <td>0.000000</td>\n",
       "      <td>0.000000</td>\n",
       "      <td>1.485000e+05</td>\n",
       "      <td>5.124465e+05</td>\n",
       "      <td>-15753.000000</td>\n",
       "      <td>-1644.000000</td>\n",
       "    </tr>\n",
       "    <tr>\n",
       "      <th>75%</th>\n",
       "      <td>0.000000</td>\n",
       "      <td>1.000000</td>\n",
       "      <td>2.025000e+05</td>\n",
       "      <td>8.086500e+05</td>\n",
       "      <td>-12450.000000</td>\n",
       "      <td>-940.000000</td>\n",
       "    </tr>\n",
       "    <tr>\n",
       "      <th>max</th>\n",
       "      <td>1.000000</td>\n",
       "      <td>9.000000</td>\n",
       "      <td>1.800009e+07</td>\n",
       "      <td>4.050000e+06</td>\n",
       "      <td>-7673.000000</td>\n",
       "      <td>-3.000000</td>\n",
       "    </tr>\n",
       "  </tbody>\n",
       "</table>\n",
       "</div>"
      ],
      "text/plain": [
       "             TARGET  NUM_CHILDREN        INCOME  APPROVED_CREDIT  \\\n",
       "count  61503.000000  61503.000000  6.150300e+04     6.150300e+04   \n",
       "mean       0.080793      0.411850  1.690789e+05     5.976899e+05   \n",
       "std        0.272519      0.716686  1.339697e+05     4.016493e+05   \n",
       "min        0.000000      0.000000  2.610000e+04     4.500000e+04   \n",
       "25%        0.000000      0.000000  1.125000e+05     2.700000e+05   \n",
       "50%        0.000000      0.000000  1.485000e+05     5.124465e+05   \n",
       "75%        0.000000      1.000000  2.025000e+05     8.086500e+05   \n",
       "max        1.000000      9.000000  1.800009e+07     4.050000e+06   \n",
       "\n",
       "           DAYS_AGE     DAYS_WORK  \n",
       "count  61503.000000  61503.000000  \n",
       "mean  -16057.481033  -2245.835228  \n",
       "std     4363.536919   2123.994254  \n",
       "min   -25229.000000 -17912.000000  \n",
       "25%   -19716.500000  -2761.000000  \n",
       "50%   -15753.000000  -1644.000000  \n",
       "75%   -12450.000000   -940.000000  \n",
       "max    -7673.000000     -3.000000  "
      ]
     },
     "execution_count": 91,
     "metadata": {},
     "output_type": "execute_result"
    }
   ],
   "source": [
    "dataku.describe()"
   ]
  },
  {
   "cell_type": "markdown",
   "id": "d6e8ed31",
   "metadata": {},
   "source": [
    "# Data Eksplorasi"
   ]
  },
  {
   "cell_type": "markdown",
   "id": "3b4e1251",
   "metadata": {},
   "source": [
    "1. Variabel Target"
   ]
  },
  {
   "cell_type": "code",
   "execution_count": 92,
   "id": "1554759c",
   "metadata": {},
   "outputs": [
    {
     "name": "stdout",
     "output_type": "stream",
     "text": [
      "0 Berarti tepat waktu dan 1 Berarti telat bayar\n",
      "0    56534\n",
      "1     4969\n",
      "Name: TARGET, dtype: int64\n"
     ]
    },
    {
     "data": {
      "text/plain": [
       "<AxesSubplot:xlabel='TARGET', ylabel='count'>"
      ]
     },
     "execution_count": 92,
     "metadata": {},
     "output_type": "execute_result"
    },
    {
     "data": {
      "image/png": "[encoded data removed]",
      "text/plain": [
       "<Figure size 432x288 with 1 Axes>"
      ]
     },
     "metadata": {
      "needs_background": "light"
     },
     "output_type": "display_data"
    }
   ],
   "source": [
    "print('0 Berarti tepat waktu dan 1 Berarti telat bayar')\n",
    "print(dataku['TARGET'].value_counts())\n",
    "sns.countplot(x='TARGET', data=dataku, palette='Set2')"
   ]
  },
  {
   "cell_type": "markdown",
   "id": "a6e85292",
   "metadata": {},
   "source": [
    "2. Variabel GENDER"
   ]
  },
  {
   "cell_type": "code",
   "execution_count": 93,
   "id": "bcddde37",
   "metadata": {},
   "outputs": [
    {
     "name": "stdout",
     "output_type": "stream",
     "text": [
      "F    40549\n",
      "M    20954\n",
      "Name: GENDER, dtype: int64\n"
     ]
    },
    {
     "data": {
      "text/plain": [
       "<AxesSubplot:xlabel='GENDER', ylabel='count'>"
      ]
     },
     "execution_count": 93,
     "metadata": {},
     "output_type": "execute_result"
    },
    {
     "data": {
      "image/png": "[encoded data removed]",
      "text/plain": [
       "<Figure size 1440x720 with 1 Axes>"
      ]
     },
     "metadata": {
      "needs_background": "light"
     },
     "output_type": "display_data"
    }
   ],
   "source": [
    "print(dataku['GENDER'].value_counts())\n",
    "plt.figure(figsize=(20, 10))\n",
    "plt.subplot(2, 2, 1)\n",
    "sns.countplot(x='GENDER', data=dataku, hue='TARGET', palette='Set2')"
   ]
  },
  {
   "cell_type": "markdown",
   "id": "f3831c04",
   "metadata": {},
   "source": [
    "3. Variabel INCOME_TYPE"
   ]
  },
  {
   "cell_type": "code",
   "execution_count": 94,
   "id": "49b587ee",
   "metadata": {},
   "outputs": [
    {
     "name": "stdout",
     "output_type": "stream",
     "text": [
      "Working                 31621\n",
      "Commercial associate    14217\n",
      "Pensioner               11249\n",
      "State servant            4407\n",
      "Unemployed                  5\n",
      "Student                     3\n",
      "Businessman                 1\n",
      "Name: INCOME_TYPE, dtype: int64\n"
     ]
    },
    {
     "data": {
      "text/plain": [
       "<AxesSubplot:xlabel='INCOME_TYPE', ylabel='count'>"
      ]
     },
     "execution_count": 94,
     "metadata": {},
     "output_type": "execute_result"
    },
    {
     "data": {
      "image/png": "[encoded data removed]",
      "text/plain": [
       "<Figure size 1440x720 with 1 Axes>"
      ]
     },
     "metadata": {
      "needs_background": "light"
     },
     "output_type": "display_data"
    }
   ],
   "source": [
    "print(dataku['INCOME_TYPE'].value_counts())\n",
    "plt.figure(figsize=(20, 10))\n",
    "plt.subplot(2, 2, 1)\n",
    "sns.countplot(x='INCOME_TYPE', data=dataku, hue='TARGET', palette='Set2')"
   ]
  },
  {
   "cell_type": "markdown",
   "id": "7698b13f",
   "metadata": {},
   "source": [
    "4. Variabel EDUCATION"
   ]
  },
  {
   "cell_type": "code",
   "execution_count": 95,
   "id": "621a01c8",
   "metadata": {},
   "outputs": [
    {
     "name": "stdout",
     "output_type": "stream",
     "text": [
      "Secondary / secondary special    43777\n",
      "Higher education                 14887\n",
      "Incomplete higher                 2045\n",
      "Lower secondary                    760\n",
      "Academic degree                     34\n",
      "Name: EDUCATION, dtype: int64\n"
     ]
    },
    {
     "data": {
      "text/plain": [
       "<AxesSubplot:xlabel='EDUCATION', ylabel='count'>"
      ]
     },
     "execution_count": 95,
     "metadata": {},
     "output_type": "execute_result"
    },
    {
     "data": {
      "image/png": "[encoded data removed]",
      "text/plain": [
       "<Figure size 1440x720 with 1 Axes>"
      ]
     },
     "metadata": {
      "needs_background": "light"
     },
     "output_type": "display_data"
    }
   ],
   "source": [
    "print(dataku['EDUCATION'].value_counts())\n",
    "plt.figure(figsize=(20, 10))\n",
    "plt.subplot(2, 2, 1)\n",
    "sns.countplot(x='EDUCATION', data=dataku, hue='TARGET', palette='Set2')"
   ]
  },
  {
   "cell_type": "markdown",
   "id": "280e4a29",
   "metadata": {},
   "source": [
    "5. Variabel FAMILY_STATUS"
   ]
  },
  {
   "cell_type": "code",
   "execution_count": 96,
   "id": "d7d568f1",
   "metadata": {},
   "outputs": [
    {
     "name": "stdout",
     "output_type": "stream",
     "text": [
      "Married                 39370\n",
      "Single / not married     9029\n",
      "Civil marriage           5881\n",
      "Separated                3970\n",
      "Widow                    3253\n",
      "Name: FAMILY_STATUS, dtype: int64\n"
     ]
    },
    {
     "data": {
      "text/plain": [
       "<AxesSubplot:xlabel='FAMILY_STATUS', ylabel='count'>"
      ]
     },
     "execution_count": 96,
     "metadata": {},
     "output_type": "execute_result"
    },
    {
     "data": {
      "image/png": "[encoded data removed]",
      "text/plain": [
       "<Figure size 1440x720 with 1 Axes>"
      ]
     },
     "metadata": {
      "needs_background": "light"
     },
     "output_type": "display_data"
    }
   ],
   "source": [
    "print(dataku['FAMILY_STATUS'].value_counts())\n",
    "plt.figure(figsize=(20, 10))\n",
    "plt.subplot(2, 2, 1)\n",
    "sns.countplot(x='FAMILY_STATUS', data=dataku, hue='TARGET', palette='Set2')"
   ]
  },
  {
   "cell_type": "markdown",
   "id": "a26285c3",
   "metadata": {},
   "source": [
    "6. Variabel HOUSING_TYPE"
   ]
  },
  {
   "cell_type": "code",
   "execution_count": 97,
   "id": "255d4ff2",
   "metadata": {},
   "outputs": [
    {
     "name": "stdout",
     "output_type": "stream",
     "text": [
      "House / apartment      54648\n",
      "With parents            2891\n",
      "Municipal apartment     2203\n",
      "Rented apartment         988\n",
      "Office apartment         534\n",
      "Co-op apartment          239\n",
      "Name: HOUSING_TYPE, dtype: int64\n"
     ]
    },
    {
     "data": {
      "text/plain": [
       "<AxesSubplot:xlabel='HOUSING_TYPE', ylabel='count'>"
      ]
     },
     "execution_count": 97,
     "metadata": {},
     "output_type": "execute_result"
    },
    {
     "data": {
      "image/png": "[encoded data removed]",
      "text/plain": [
       "<Figure size 1440x720 with 1 Axes>"
      ]
     },
     "metadata": {
      "needs_background": "light"
     },
     "output_type": "display_data"
    }
   ],
   "source": [
    "print(dataku['HOUSING_TYPE'].value_counts())\n",
    "plt.figure(figsize=(20, 10))\n",
    "plt.subplot(2, 2, 1)\n",
    "sns.countplot(x='HOUSING_TYPE', data=dataku, hue='TARGET', palette='Set2')"
   ]
  },
  {
   "cell_type": "markdown",
   "id": "81ea9aa5",
   "metadata": {},
   "source": [
    "Apabila ingin menggabungkan semua grafik menjadi 1 grafik maka "
   ]
  },
  {
   "cell_type": "code",
   "execution_count": 98,
   "id": "2c1ee153",
   "metadata": {
    "scrolled": true
   },
   "outputs": [
    {
     "data": {
      "image/png": "[encoded data removed]",
      "text/plain": [
       "<Figure size 1080x1080 with 6 Axes>"
      ]
     },
     "metadata": {
      "needs_background": "light"
     },
     "output_type": "display_data"
    }
   ],
   "source": [
    "categorik = ['CONTRACT_TYPE','GENDER','INCOME_TYPE','EDUCATION','FAMILY_STATUS','HOUSING_TYPE']\n",
    "\n",
    "fig,axes = plt.subplots(3,2,figsize=(15,15))\n",
    "for idx,cat_col in enumerate(categorik):\n",
    "    row,col = idx//2,idx%2\n",
    "    sns.countplot(x=cat_col,data=dataku,hue='TARGET',ax=axes[row,col])\n",
    "\n",
    "plt.subplots_adjust(hspace=0.5)"
   ]
  },
  {
   "cell_type": "markdown",
   "id": "e1c4ff59",
   "metadata": {},
   "source": [
    "7. APPROVED_CREDIT"
   ]
  },
  {
   "cell_type": "code",
   "execution_count": 99,
   "id": "cc7c0c32",
   "metadata": {
    "scrolled": true
   },
   "outputs": [
    {
     "data": {
      "image/png": "[encoded data removed]",
      "text/plain": [
       "<Figure size 432x288 with 1 Axes>"
      ]
     },
     "metadata": {
      "needs_background": "light"
     },
     "output_type": "display_data"
    }
   ],
   "source": [
    "plt.hist(dataku['APPROVED_CREDIT'], bins=100, facecolor='g', alpha=0.5)\n",
    "plt.show()"
   ]
  },
  {
   "cell_type": "markdown",
   "id": "b7a1ee9c",
   "metadata": {},
   "source": [
    "8. DAYS_AGE"
   ]
  },
  {
   "cell_type": "code",
   "execution_count": 100,
   "id": "68f3b73d",
   "metadata": {},
   "outputs": [
    {
     "data": {
      "image/png": "[encoded data removed]",
      "text/plain": [
       "<Figure size 432x288 with 1 Axes>"
      ]
     },
     "metadata": {
      "needs_background": "light"
     },
     "output_type": "display_data"
    }
   ],
   "source": [
    "plt.hist(dataku['DAYS_AGE'], bins=50, facecolor='g', alpha=0.5)\n",
    "plt.show()"
   ]
  },
  {
   "cell_type": "markdown",
   "id": "64ad4298",
   "metadata": {},
   "source": [
    "9. DAYS_WORK"
   ]
  },
  {
   "cell_type": "code",
   "execution_count": 101,
   "id": "3e23ab28",
   "metadata": {},
   "outputs": [
    {
     "data": {
      "image/png": "[encoded data removed]",
      "text/plain": [
       "<Figure size 432x288 with 1 Axes>"
      ]
     },
     "metadata": {
      "needs_background": "light"
     },
     "output_type": "display_data"
    }
   ],
   "source": [
    "plt.hist(dataku['DAYS_WORK'], bins=100, facecolor='g', alpha=0.75)\n",
    "plt.show()"
   ]
  },
  {
   "cell_type": "markdown",
   "id": "d3c00033",
   "metadata": {},
   "source": [
    "Kenapa seperti itu karena pada langkah sebelumnya ketika terdapat nilai yang aneh 365243 kita menggantinya dengan nilai median yang membuat grafik dari tabel tersebut menjadi seperti itu"
   ]
  },
  {
   "cell_type": "markdown",
   "id": "742a7874",
   "metadata": {},
   "source": [
    "Yang selanjutnya saya akan melihat korelasi antar variabel numerik"
   ]
  },
  {
   "cell_type": "code",
   "execution_count": 102,
   "id": "4261df6e",
   "metadata": {},
   "outputs": [
    {
     "data": {
      "image/png": "[encoded data removed]",
      "text/plain": [
       "<Figure size 576x360 with 2 Axes>"
      ]
     },
     "metadata": {
      "needs_background": "light"
     },
     "output_type": "display_data"
    }
   ],
   "source": [
    "plt.subplots(figsize=(8, 5))\n",
    "sns.heatmap(dataku.corr(), annot=True, cmap=\"RdYlGn\")\n",
    "plt.show()"
   ]
  }
 ],
 "metadata": {
  "kernelspec": {
   "display_name": "Python 3",
   "language": "python",
   "name": "python3"
  },
  "language_info": {
   "codemirror_mode": {
    "name": "ipython",
    "version": 3
   },
   "file_extension": ".py",
   "mimetype": "text/x-python",
   "name": "python",
   "nbconvert_exporter": "python",
   "pygments_lexer": "ipython3",
   "version": "3.9.1"
  }
 },
 "nbformat": 4,
 "nbformat_minor": 5
}
